{
 "cells": [
  {
   "cell_type": "code",
   "execution_count": 5,
   "metadata": {
    "ExecuteTime": {
     "end_time": "2019-07-07T22:10:54.996352Z",
     "start_time": "2019-07-07T22:10:54.984353Z"
    }
   },
   "outputs": [],
   "source": [
    "import pandas as pd \n",
    "data = pd.read_csv('ETH-USD.csv')"
   ]
  },
  {
   "cell_type": "code",
   "execution_count": 6,
   "metadata": {
    "ExecuteTime": {
     "end_time": "2019-07-07T22:10:56.389720Z",
     "start_time": "2019-07-07T22:10:56.384697Z"
    }
   },
   "outputs": [
    {
     "data": {
      "text/plain": [
       "1430"
      ]
     },
     "execution_count": 6,
     "metadata": {},
     "output_type": "execute_result"
    }
   ],
   "source": [
    "data.shape[0]"
   ]
  },
  {
   "cell_type": "code",
   "execution_count": 7,
   "metadata": {
    "ExecuteTime": {
     "end_time": "2019-07-07T22:10:57.160997Z",
     "start_time": "2019-07-07T22:10:57.155983Z"
    }
   },
   "outputs": [
    {
     "data": {
      "text/plain": [
       "7"
      ]
     },
     "execution_count": 7,
     "metadata": {},
     "output_type": "execute_result"
    }
   ],
   "source": [
    "data.shape[1]"
   ]
  },
  {
   "cell_type": "code",
   "execution_count": 21,
   "metadata": {
    "ExecuteTime": {
     "end_time": "2019-07-07T22:48:38.252340Z",
     "start_time": "2019-07-07T22:48:38.231389Z"
    }
   },
   "outputs": [
    {
     "data": {
      "text/plain": [
       "8397"
      ]
     },
     "execution_count": 21,
     "metadata": {},
     "output_type": "execute_result"
    }
   ],
   "source": [
    "# from sklearn.preprocessing import MinMaxScaler as mini\n",
    "# from sklearn.model_selection import train_test_split\n",
    "MSFT_data = pd.read_csv('MSFT.csv')\n",
    "MSFT_data.shape[0]\n",
    "# MSFT_data= MSFT_data.drop(['Date'], axis =1)\n",
    "# MSFT_data = MSFT_data.drop('Adj Close',axis=1)\n",
    "# MSFT_X= MSFT_data.drop(['High'],axis=1)\n",
    "# MSFT_y= MSFT_data['High']\n",
    "# # MSFT_X = mini.fit_transform(MSFT_X)\n",
    "# MSFT_X_train,MSFT_X_test,MSFT_y_train,MSFT_y_test = train_test_split(MSFT_X,MSFT_y,test_size=.67)\n",
    "# from sklearn.linear_model import LinearRegression\n",
    "# regressor = LinearRegression()\n",
    "\n",
    "# #Fitting model with trainig data\n",
    "# regressor.fit(MSFT_X_train, MSFT_y_train)\n",
    "\n",
    "# # Saving model to disk\n",
    "# pickle.dump(regressor, open('MSFT_model.pkl','wb'))\n",
    "\n",
    "# # Loading model to compare the results\n",
    "# model = pickle.load(open('MSFT_model.pkl','rb'))\n",
    "# MSFT_future_x = MSFT_X\n",
    "# MSFT_X = MSFT_X[8390:8397]\n",
    "#     # future_x = X[-1]\n",
    "#     # x = X[:-1]\n",
    "# MSFT_bata = pd.read_csv('MSFT-USD.csv')\n",
    "# MSFT_date = MSFT_bata['Date']\n",
    "# MSFT_date = MSFT_date[8396:8397]\n",
    "# print(MSFT_date)\n",
    "# MSFT_bata = pd.read_csv('MSFT-USD.csv')\n",
    "# MSFT_date = MSFT_bata['Date']\n",
    "# print('PREDICTED HIGH')\n",
    "# MSFT_y = model.predict(MSFT_future_x)\n",
    "# print(MSFT_y[8396:8397])\n",
    "# MSFT_y = model.predict(MSFT_future_x)\n",
    "# print(MSFT_y[8396:8397])\n",
    "\n",
    "# MSFT_output =MSFT_y[8396:8397]"
   ]
  },
  {
   "cell_type": "code",
   "execution_count": null,
   "metadata": {},
   "outputs": [],
   "source": [
    "@app.route('/predict_MSFT',methods=['POST'])\n",
    "def predict_MSFT():\n",
    "    '''\n",
    "    For rendering results on HTML GUI\n",
    "    '''\n",
    "    import pandas as pd\n",
    "    from sklearn.preprocessing import MinMaxScaler as mini\n",
    "    data = pd.read_csv('MSFT.csv')\n",
    "    data= data.drop(['Date'], axis =1)\n",
    "    data = data.drop('Adj Close',axis=1)\n",
    "    X= data.drop(['High'],axis=1)\n",
    "    y= data['High']\n",
    "    mini = mini()\n",
    "    X = mini.fit_transform(X)\n",
    "    future_x = X\n",
    "    X = X[1423:1430]\n",
    "    # future_x = X[-1]\n",
    "    # x = X[:-1]\n",
    "    bata = pd.read_csv('MSFT.csv')\n",
    "    date = bata['Date']\n",
    "    date = date[1429:1430]\n",
    "    print(date)\n",
    "    bata = pd.read_csv('MSFT.csv')\n",
    "    date = bata['Date']\n",
    "    print('PREDICTED HIGH')\n",
    "    y = MSFT_model.predict(future_x)\n",
    "    print(y[1429:1430])\n",
    "    y = MSFT_model.predict(future_x)\n",
    "    print(y[1429:1430])\n",
    "\n",
    "    output =y[1429:1430]\n",
    "\n",
    "\n",
    "\n",
    "    return render_template('index.html', prediction_text='Predicted High For MSFT should be $ {}'.format(output))"
   ]
  }
 ],
 "metadata": {
  "kernelspec": {
   "display_name": "Python 3",
   "language": "python",
   "name": "python3"
  },
  "language_info": {
   "codemirror_mode": {
    "name": "ipython",
    "version": 3
   },
   "file_extension": ".py",
   "mimetype": "text/x-python",
   "name": "python",
   "nbconvert_exporter": "python",
   "pygments_lexer": "ipython3",
   "version": "3.7.3"
  },
  "latex_envs": {
   "LaTeX_envs_menu_present": true,
   "autoclose": false,
   "autocomplete": true,
   "bibliofile": "biblio.bib",
   "cite_by": "apalike",
   "current_citInitial": 1,
   "eqLabelWithNumbers": true,
   "eqNumInitial": 1,
   "hotkeys": {
    "equation": "Ctrl-E",
    "itemize": "Ctrl-I"
   },
   "labels_anchors": false,
   "latex_user_defs": false,
   "report_style_numbering": true,
   "user_envs_cfg": false
  }
 },
 "nbformat": 4,
 "nbformat_minor": 2
}
